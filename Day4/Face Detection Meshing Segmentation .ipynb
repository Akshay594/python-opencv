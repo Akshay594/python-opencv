{
 "cells": [
  {
   "cell_type": "code",
   "execution_count": 9,
   "id": "2c5c2d3e",
   "metadata": {},
   "outputs": [
    {
     "name": "stderr",
     "output_type": "stream",
     "text": [
      "[ WARN:0] global /tmp/pip-req-build-xw6jtoah/opencv/modules/videoio/src/cap_v4l.cpp (890) open VIDEOIO(V4L2:/dev/video0): can't open camera by index\n"
     ]
    }
   ],
   "source": [
    "import cv2\n",
    "import mediapipe as mp\n",
    "\n",
    "# Drawing utility\n",
    "mp_drawing = mp.solutions.drawing_utils\n",
    "# Face detection utility\n",
    "mp_face_detection = mp.solutions.face_detection\n",
    "\n",
    "# Model for detecting the face\n",
    "model_detection = mp_face_detection.FaceDetection()\n",
    "\n",
    "cap = cv2.VideoCapture(0)\n",
    "\n",
    "while cap.isOpened():\n",
    "\tflag, frame = cap.read()\n",
    "\tif not flag:\n",
    "\t\tprint(\"Could not access the camera.\")\n",
    "\t\tbreak\n",
    "\n",
    "\tresults = model_detection.process(frame)\n",
    "\tfor landmark in results.detections:\n",
    "\t\tprint(mp_face_detection.get_key_point(landmark, mp_face_detection.FaceKeyPoint.NOSE_TIP))\n",
    "\t\tmp_drawing.draw_detection(frame, mp_face_detection.FaceKeyPoint.NOSE_TIP.value)\n",
    "\tprint(results.detections)\n",
    "\tcv2.imshow('Frame', frame)\n",
    "\tif cv2.waitKey(10) & 0xff == ord('q'):\n",
    "\t\tbreak\n",
    "\n",
    "\n",
    "cap.release()\n",
    "cv2.destroyAllWindows()"
   ]
  },
  {
   "cell_type": "code",
   "execution_count": 3,
   "id": "6b2450e2",
   "metadata": {},
   "outputs": [
    {
     "data": {
      "text/plain": [
       "2"
      ]
     },
     "execution_count": 3,
     "metadata": {},
     "output_type": "execute_result"
    }
   ],
   "source": [
    "mp_face_detection.FaceKeyPoint.NOSE_TIP.value"
   ]
  },
  {
   "cell_type": "code",
   "execution_count": null,
   "id": "3785cb4a",
   "metadata": {},
   "outputs": [],
   "source": []
  }
 ],
 "metadata": {
  "kernelspec": {
   "display_name": "Python 3.8.10 64-bit ('env': venv)",
   "language": "python",
   "name": "python3810jvsc74a57bd0f92eff947fdd664a96e7923bf54b9e7eeaa3f55767e8a5d56b4d53a1c3e70b3b"
  },
  "language_info": {
   "codemirror_mode": {
    "name": "ipython",
    "version": 3
   },
   "file_extension": ".py",
   "mimetype": "text/x-python",
   "name": "python",
   "nbconvert_exporter": "python",
   "pygments_lexer": "ipython3",
   "version": "3.8.10"
  }
 },
 "nbformat": 4,
 "nbformat_minor": 5
}
